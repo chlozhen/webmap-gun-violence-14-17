{
 "cells": [
  {
   "cell_type": "code",
   "execution_count": 24,
   "metadata": {},
   "outputs": [],
   "source": [
    "import pandas as pd\n",
    "import numpy as np"
   ]
  },
  {
   "cell_type": "code",
   "execution_count": 25,
   "metadata": {},
   "outputs": [
    {
     "name": "stdout",
     "output_type": "stream",
     "text": [
      "Index(['incident_id', 'date', 'state', 'city_or_county', 'address', 'n_killed',\n",
      "       'n_injured', 'incident_url', 'source_url',\n",
      "       'incident_url_fields_missing', 'congressional_district', 'gun_stolen',\n",
      "       'gun_type', 'incident_characteristics', 'latitude',\n",
      "       'location_description', 'longitude', 'n_guns_involved', 'notes',\n",
      "       'participant_age', 'participant_age_group', 'participant_gender',\n",
      "       'participant_name', 'participant_relationship', 'participant_status',\n",
      "       'participant_type', 'sources', 'state_house_district',\n",
      "       'state_senate_district'],\n",
      "      dtype='object')\n",
      "(239677, 29)\n"
     ]
    }
   ],
   "source": [
    "gv_data = pd.read_csv(\"gun-violence-data_01-2013_03-2018.csv\") #https://www.kaggle.com/datasets/jameslko/gun-violence-data\n",
    "print(gv_data.columns)\n",
    "print(gv_data.shape)"
   ]
  },
  {
   "cell_type": "code",
   "execution_count": 26,
   "metadata": {},
   "outputs": [
    {
     "name": "stdout",
     "output_type": "stream",
     "text": [
      "Index(['incident_id', 'date', 'state', 'city_or_county', 'address', 'n_killed',\n",
      "       'n_injured', 'incident_url', 'source_url', 'incident_characteristics',\n",
      "       'latitude', 'location_description', 'longitude', 'notes', 'sources'],\n",
      "      dtype='object')\n",
      "(239677, 15)\n"
     ]
    }
   ],
   "source": [
    "# Drop unnecessary categories (for map usage)\n",
    "gv_data = gv_data.drop(columns=['incident_url_fields_missing', \n",
    "                                'congressional_district', \n",
    "                                'state_house_district',\n",
    "                                'state_senate_district',\n",
    "                                'participant_age', \n",
    "                                'participant_age_group', \n",
    "                                'participant_gender',\n",
    "                                'participant_name', \n",
    "                                'participant_relationship', \n",
    "                                'participant_status',\n",
    "                                'participant_type',\n",
    "                                'gun_stolen',\n",
    "                                'gun_type',\n",
    "                                'n_guns_involved'])\n",
    "print(gv_data.columns)\n",
    "print(gv_data.shape)\n"
   ]
  },
  {
   "cell_type": "code",
   "execution_count": 27,
   "metadata": {},
   "outputs": [
    {
     "name": "stdout",
     "output_type": "stream",
     "text": [
      "2013 278\n",
      "2014 51854\n",
      "2015 53579\n",
      "2016 58763\n",
      "2017 61401\n",
      "2018 13802\n"
     ]
    }
   ],
   "source": [
    "#Check year counts - kaggle author mentioned 2013 and 2018 are incomplete\n",
    "gv_data.date = pd.to_datetime(gv_data.date)\n",
    "gv_data[\"year\"] = gv_data.date.dt.year.values\n",
    "for y in range(2013, 2019):\n",
    "    print(y, len(gv_data[gv_data.year == y]))"
   ]
  },
  {
   "cell_type": "code",
   "execution_count": 28,
   "metadata": {},
   "outputs": [
    {
     "name": "stdout",
     "output_type": "stream",
     "text": [
      "2013 0\n",
      "2014 51854\n",
      "2015 53579\n",
      "2016 58763\n",
      "2017 61401\n",
      "2018 0\n"
     ]
    }
   ],
   "source": [
    "#Filter 2013 and 2018\n",
    "gv_data = gv_data[gv_data.year != 2013]\n",
    "gv_data = gv_data[gv_data.year != 2018]\n",
    "\n",
    "for y in range(2013, 2019):\n",
    "    print(y, len(gv_data[gv_data.year == y]))"
   ]
  },
  {
   "cell_type": "code",
   "execution_count": 29,
   "metadata": {},
   "outputs": [
    {
     "name": "stdout",
     "output_type": "stream",
     "text": [
      "<class 'pandas.core.frame.DataFrame'>\n",
      "Int64Index: 225597 entries, 278 to 225874\n",
      "Data columns (total 16 columns):\n",
      " #   Column                    Non-Null Count   Dtype         \n",
      "---  ------                    --------------   -----         \n",
      " 0   incident_id               225597 non-null  Int64         \n",
      " 1   date                      225597 non-null  datetime64[ns]\n",
      " 2   state                     225597 non-null  string        \n",
      " 3   city_or_county            225597 non-null  string        \n",
      " 4   address                   209691 non-null  string        \n",
      " 5   n_killed                  225597 non-null  Int64         \n",
      " 6   n_injured                 225597 non-null  Int64         \n",
      " 7   incident_url              225597 non-null  string        \n",
      " 8   source_url                225159 non-null  string        \n",
      " 9   incident_characteristics  225285 non-null  string        \n",
      " 10  latitude                  219257 non-null  Float64       \n",
      " 11  location_description      39185 non-null   string        \n",
      " 12  longitude                 219257 non-null  Float64       \n",
      " 13  notes                     149920 non-null  string        \n",
      " 14  sources                   225006 non-null  string        \n",
      " 15  year                      225597 non-null  Int64         \n",
      "dtypes: Float64(2), Int64(4), datetime64[ns](1), string(9)\n",
      "memory usage: 30.6 MB\n",
      "None\n",
      "(225597, 16)\n"
     ]
    }
   ],
   "source": [
    "# Check datatypes, data size, save file\n",
    "gv_data = gv_data.convert_dtypes()\n",
    "print(gv_data.info())\n",
    "print(gv_data.shape)"
   ]
  },
  {
   "cell_type": "code",
   "execution_count": 30,
   "metadata": {},
   "outputs": [],
   "source": [
    "gv_data.to_csv(\"gun-violence-2014-2017.csv\")"
   ]
  },
  {
   "cell_type": "code",
   "execution_count": 31,
   "metadata": {},
   "outputs": [],
   "source": [
    "gv_data_ny = gv_data[gv_data.state == \"New York\"]\n",
    "gv_data_ny.to_csv(\"gun-violence-NY-2014-2017.csv\")"
   ]
  }
 ],
 "metadata": {
  "kernelspec": {
   "display_name": "base",
   "language": "python",
   "name": "python3"
  },
  "language_info": {
   "codemirror_mode": {
    "name": "ipython",
    "version": 3
   },
   "file_extension": ".py",
   "mimetype": "text/x-python",
   "name": "python",
   "nbconvert_exporter": "python",
   "pygments_lexer": "ipython3",
   "version": "3.9.12"
  },
  "orig_nbformat": 4
 },
 "nbformat": 4,
 "nbformat_minor": 2
}
